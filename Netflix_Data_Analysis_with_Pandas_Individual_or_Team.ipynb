{
  "nbformat": 4,
  "nbformat_minor": 0,
  "metadata": {
    "colab": {
      "provenance": []
    },
    "kernelspec": {
      "name": "python3",
      "display_name": "Python 3"
    },
    "language_info": {
      "name": "python"
    }
  },
  "cells": [
    {
      "cell_type": "code",
      "source": [
        "import pandas as pd\n",
        "import matplotlib.pyplot as plt\n",
        "\n",
        "df = pd.read_csv('netflix_titles.csv')\n",
        "\n",
        "df['director'] = df['director'].fillna('Unknown')\n",
        "df['country'] = df['country'].fillna('Unknown')\n",
        "df = df.dropna(axis=1)"
      ],
      "metadata": {
        "id": "IrWVjtYOzC_o"
      },
      "execution_count": null,
      "outputs": []
    },
    {
      "cell_type": "markdown",
      "source": [
        "### Analysis 1: Most Produced Content Type on Netflix\n",
        "Netflix provides two types of content: Movies and TV Shows. Based on the data:\n",
        "- **Movies** are more frequently produced than TV Shows.\n",
        "- Visualization shows the exact counts for each type.\n",
        "\n",
        "The bar graph below illustrates the number of Movies and TV Shows available on Netflix:\n"
      ],
      "metadata": {
        "id": "Rom-4SurzEAx"
      }
    },
    {
      "cell_type": "code",
      "source": [
        "print(\"Most produced content type on Netflix:\\n\", df['type'].value_counts())\n",
        "df['type'].value_counts().plot(kind='bar', color=['blue', 'orange'])\n",
        "plt.title('Number of Movies and TV Shows')\n",
        "plt.xlabel('Type')\n",
        "plt.ylabel('Count')\n",
        "plt.show()"
      ],
      "metadata": {
        "colab": {
          "base_uri": "https://localhost:8080/",
          "height": 609
        },
        "id": "C-M-dcytzGWO",
        "outputId": "4e668641-049e-4cb4-f320-82fa5df85790"
      },
      "execution_count": 10,
      "outputs": [
        {
          "output_type": "stream",
          "name": "stdout",
          "text": [
            "Most produced content type on Netflix:\n",
            " type\n",
            "Movie      6131\n",
            "TV Show    2676\n",
            "Name: count, dtype: int64\n"
          ]
        },
        {
          "output_type": "display_data",
          "data": {
            "text/plain": [
              "<Figure size 640x480 with 1 Axes>"
            ],
            "image/png": "[encoded data removed]"
          },
          "metadata": {}
        }
      ]
    },
    {
      "cell_type": "markdown",
      "source": [
        "### Analysis 2: Number of Contents by Country (Top 10)\n",
        "The dataset reveals that Netflix titles are predominantly produced in certain countries:\n",
        "- The **United States** has the highest number of titles, followed by India and the United Kingdom.\n",
        "- The bar graph below shows the top 10 countries producing Netflix titles."
      ],
      "metadata": {
        "id": "LWolvlw9zKVE"
      }
    },
    {
      "cell_type": "code",
      "source": [
        "print(\"Number of contents by country:\\n\", df['country'].value_counts().head(10))\n",
        "df['country'].value_counts().head(10).plot(kind='bar', figsize=(10, 5))\n",
        "plt.title('Top 10 Countries by Number of Netflix Titles')\n",
        "plt.xlabel('Country')\n",
        "plt.ylabel('Count')\n",
        "plt.show()"
      ],
      "metadata": {
        "id": "u3bbL5DAzM67"
      },
      "execution_count": null,
      "outputs": []
    },
    {
      "cell_type": "markdown",
      "source": [
        "### Analysis 3: Top 10 Directors with the Most Contributions\n",
        "Netflix features contributions from various directors:\n",
        "- The most prolific director is listed as `Unknown` due to missing data, followed by other directors.\n",
        "- The horizontal bar graph below highlights the top 10 directors with the most contributions.\n"
      ],
      "metadata": {
        "id": "WwT-kJMHzVDc"
      }
    },
    {
      "cell_type": "code",
      "source": [
        "print(\"Top 10 directors with the most contributions:\\n\", df['director'].value_counts().head(10))\n",
        "df['director'].value_counts().head(10).plot(kind='barh', figsize=(10, 5), color='green')\n",
        "plt.title('Top 10 Directors on Netflix')\n",
        "plt.xlabel('Count')\n",
        "plt.ylabel('Director')\n",
        "plt.show()"
      ],
      "metadata": {
        "id": "-wpvShYqzYcq"
      },
      "execution_count": null,
      "outputs": []
    },
    {
      "cell_type": "markdown",
      "source": [
        "### Analysis 4: Most Frequent Genres\n",
        "The dataset contains a variety of genres. The top 3 genres are:\n",
        "1. International Movies\n",
        "2. Dramas\n",
        "3. Comedies\n",
        "- The bar graph below shows the 10 most frequent genres available on Netflix.\n"
      ],
      "metadata": {
        "id": "B-x8wp8_zgNG"
      }
    },
    {
      "cell_type": "code",
      "source": [
        "df['listed_in'] = df['listed_in'].fillna('Unknown')\n",
        "genres = df['listed_in'].str.split(', ').explode()\n",
        "print(\"Most frequent genres:\\n\", genres.value_counts().head(10))\n",
        "genres.value_counts().head(10).plot(kind='bar', figsize=(10, 5), color='purple')\n",
        "plt.title('Top 10 Genres on Netflix')\n",
        "plt.xlabel('Genre')\n",
        "plt.ylabel('Count')\n",
        "plt.show()"
      ],
      "metadata": {
        "id": "PyH46ZthzbYo"
      },
      "execution_count": null,
      "outputs": []
    },
    {
      "cell_type": "markdown",
      "source": [
        "### Analysis 5: Number of Contents per Release Year\n",
        "The release year analysis shows:\n",
        "- Netflix titles have been steadily increasing over the years.\n",
        "- A significant surge in content occurred after 2015, indicating Netflix's global expansion.\n",
        "- The line graph below illustrates the number of titles released per year.\n"
      ],
      "metadata": {
        "id": "OroZy05pzi7w"
      }
    },
    {
      "cell_type": "code",
      "source": [
        "print(\"Number of contents per release year:\\n\", df['release_year'].value_counts().sort_index())\n",
        "df['release_year'].value_counts().sort_index().plot(kind='line', figsize=(10, 5))\n",
        "plt.title('Number of Netflix Titles per Year')\n",
        "plt.xlabel('Year')\n",
        "plt.ylabel('Count')\n",
        "plt.grid(True)\n",
        "plt.show()"
      ],
      "metadata": {
        "id": "PSEfX8v2zcJT"
      },
      "execution_count": null,
      "outputs": []
    },
    {
      "cell_type": "markdown",
      "source": [
        "### Analysis 6: Average Duration by Content Type\n",
        "The average duration for Movies and TV Shows is:\n",
        "- Movies: 90-120 minutes on average.\n",
        "- TV Shows: Typically one or more seasons with varying episode lengths.\n",
        "- The bar graph below displays the average duration of Movies and TV Shows.\n"
      ],
      "metadata": {
        "id": "ygCOkNE6zmn-"
      }
    },
    {
      "cell_type": "code",
      "source": [
        "if 'duration' in df.columns:\n",
        "    df['duration'] = df['duration'].str.replace(' min', '').str.replace(' Season', '').str.replace('s', '')\n",
        "    df['duration'] = pd.to_numeric(df['duration'], errors='coerce')\n",
        "    avg_duration = df.groupby('type')['duration'].mean()\n",
        "    print(\"Average duration by content type:\\n\", avg_duration)\n",
        "    avg_duration.plot(kind='bar', figsize=(10, 5), color=['cyan', 'magenta'])\n",
        "    plt.title('Average Duration by Type')\n",
        "    plt.xlabel('Type')\n",
        "    plt.ylabel('Average Duration (minutes)')\n",
        "    plt.show()"
      ],
      "metadata": {
        "id": "0jX94HQBzdNP"
      },
      "execution_count": null,
      "outputs": []
    }
  ]
}